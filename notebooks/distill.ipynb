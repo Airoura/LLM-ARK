{
 "cells": [
  {
   "cell_type": "code",
   "execution_count": null,
   "id": "2afb5745",
   "metadata": {},
   "outputs": [],
   "source": [
    "from tqdm import tqdm\n",
    "import os\n",
    "import numpy as np\n",
    "import json"
   ]
  },
  {
   "cell_type": "code",
   "execution_count": null,
   "id": "1333e33f",
   "metadata": {},
   "outputs": [],
   "source": [
    "entities = []\n",
    "relations = []"
   ]
  },
  {
   "cell_type": "code",
   "execution_count": null,
   "id": "a99f45ce",
   "metadata": {},
   "outputs": [
    {
     "name": "stderr",
     "output_type": "stream",
     "text": [
      "100%|████████████████████████████████████| 329/329 [00:00<00:00, 2251102.80it/s]\n"
     ]
    }
   ],
   "source": [
    "with open(os.path.join(\"conv_graph\",\"relations.txt\"),\"r\") as f:\n",
    "    for line in tqdm(f.readlines()):\n",
    "        relations.append(line.strip())"
   ]
  },
  {
   "cell_type": "code",
   "execution_count": null,
   "id": "8987d6ed",
   "metadata": {},
   "outputs": [
    {
     "name": "stderr",
     "output_type": "stream",
     "text": [
      "100%|██████████████████████████████████| 9756/9756 [00:00<00:00, 3975481.38it/s]\n"
     ]
    }
   ],
   "source": [
    "with open(os.path.join(\"conv_graph\",\"entities.txt\"),\"r\") as f:\n",
    "    for line in tqdm(f.readlines()):\n",
    "        entities.append(line.strip())"
   ]
  },
  {
   "cell_type": "code",
   "execution_count": null,
   "id": "af54927e",
   "metadata": {},
   "outputs": [
    {
     "name": "stderr",
     "output_type": "stream",
     "text": [
      "100%|█████████████████████████████████| 100813/100813 [00:33<00:00, 2973.20it/s]\n"
     ]
    }
   ],
   "source": [
    "with open(\"opendialkg_entities.txt\", 'r') as f:\n",
    "    for line in tqdm(f.readlines()):\n",
    "        entity = line.strip()\n",
    "        if entity not in entities:\n",
    "            entities.append(entity)"
   ]
  },
  {
   "cell_type": "code",
   "execution_count": null,
   "id": "06d0a0d0",
   "metadata": {},
   "outputs": [
    {
     "name": "stderr",
     "output_type": "stream",
     "text": [
      "100%|███████████████████████████████████| 1358/1358 [00:00<00:00, 216268.55it/s]\n"
     ]
    }
   ],
   "source": [
    "with open(\"opendialkg_relations.txt\", 'r') as f:\n",
    "    for line in tqdm(f.readlines()):\n",
    "        relation = line.strip()\n",
    "        if relation not in relations:\n",
    "            relations.append(relation)"
   ]
  },
  {
   "cell_type": "code",
   "execution_count": null,
   "id": "121cba4d",
   "metadata": {},
   "outputs": [
    {
     "name": "stderr",
     "output_type": "stream",
     "text": [
      "100%|███████████████████████████████| 1190658/1190658 [09:21<00:00, 2122.04it/s]\n"
     ]
    }
   ],
   "source": [
    "triples = []\n",
    "with open(\"opendialkg_triples.txt\", 'r') as f:\n",
    "        for line in tqdm(f.readlines()):\n",
    "            triple = line.strip().split(\"\\t\")\n",
    "            if len(triple) != 3:\n",
    "                continue\n",
    "            h = triple[0]\n",
    "            t = triple[2]\n",
    "            r = triple[1]\n",
    "\n",
    "            if h.strip() not in entities:\n",
    "                entities.append(h.strip())\n",
    "\n",
    "            if t.strip() not in entities:\n",
    "                entities.append(t.strip())\n",
    "            \n",
    "            if r.strip() not in relations:\n",
    "                relations.append(r.strip())\n",
    "                \n",
    "            item = f\"{h}\\t{r}\\t{t}\"\n",
    "            triples.append(item)"
   ]
  },
  {
   "cell_type": "code",
   "execution_count": null,
   "id": "75bcd516",
   "metadata": {},
   "outputs": [
    {
     "data": {
      "text/plain": [
       "100925"
      ]
     },
     "execution_count": 10,
     "metadata": {},
     "output_type": "execute_result"
    }
   ],
   "source": [
    "len(entities)"
   ]
  },
  {
   "cell_type": "code",
   "execution_count": null,
   "id": "cd394794",
   "metadata": {},
   "outputs": [
    {
     "data": {
      "text/plain": [
       "1381"
      ]
     },
     "execution_count": 11,
     "metadata": {},
     "output_type": "execute_result"
    }
   ],
   "source": [
    "len(relations)"
   ]
  },
  {
   "cell_type": "code",
   "execution_count": null,
   "id": "5e792db6",
   "metadata": {},
   "outputs": [
    {
     "data": {
      "text/plain": [
       "1189192"
      ]
     },
     "execution_count": 12,
     "metadata": {},
     "output_type": "execute_result"
    }
   ],
   "source": [
    "len(triples)"
   ]
  },
  {
   "cell_type": "code",
   "execution_count": null,
   "id": "bcbd748f",
   "metadata": {},
   "outputs": [
    {
     "data": {
      "text/plain": [
       "'September 11 attacks\\t~Damaged by disaster\\tThe Pentagon'"
      ]
     },
     "execution_count": 13,
     "metadata": {},
     "output_type": "execute_result"
    }
   ],
   "source": [
    "triples[0]"
   ]
  },
  {
   "cell_type": "code",
   "execution_count": null,
   "id": "2e0c6293",
   "metadata": {},
   "outputs": [
    {
     "data": {
      "text/plain": [
       "True"
      ]
     },
     "execution_count": 19,
     "metadata": {},
     "output_type": "execute_result"
    }
   ],
   "source": [
    "\"Dawn of the Planet of the Apes\" in entities"
   ]
  },
  {
   "cell_type": "code",
   "execution_count": null,
   "id": "2696ce4d",
   "metadata": {},
   "outputs": [],
   "source": [
    "meta_info = {\n",
    "    \"num_entities\": len(entities),\n",
    "    \"num_relations\": len(relations),\n",
    "    \"num_triples\": len(triples)\n",
    "}"
   ]
  },
  {
   "cell_type": "code",
   "execution_count": null,
   "id": "7022e33c",
   "metadata": {},
   "outputs": [],
   "source": [
    "with open(\"all/meta_data.json\", \"w\", encoding=\"utf8\") as f:\n",
    "    json.dump(meta_info, f, indent=4, ensure_ascii=False)"
   ]
  },
  {
   "cell_type": "code",
   "execution_count": null,
   "id": "164bd362",
   "metadata": {},
   "outputs": [],
   "source": [
    "with open(os.path.join(\"all/entities.txt\",),\"w\") as f:\n",
    "    for i in entities:\n",
    "        f.write(i.strip())\n",
    "        f.write(\"\\n\") "
   ]
  },
  {
   "cell_type": "code",
   "execution_count": null,
   "id": "d67c74c1",
   "metadata": {},
   "outputs": [],
   "source": [
    "with open(os.path.join(\"all/relations.txt\",),\"w\") as f:\n",
    "    for i in relations:\n",
    "        f.write(i.strip())\n",
    "        f.write(\"\\n\")"
   ]
  },
  {
   "cell_type": "code",
   "execution_count": null,
   "id": "75f2c66e",
   "metadata": {},
   "outputs": [],
   "source": [
    "with open(os.path.join(\"all/triples.txt\",),\"w\") as f:\n",
    "    for i in triples:\n",
    "        f.write(i.strip())\n",
    "        f.write(\"\\n\")"
   ]
  },
  {
   "cell_type": "code",
   "execution_count": null,
   "id": "94f78ffb",
   "metadata": {},
   "outputs": [],
   "source": []
  }
 ],
 "metadata": {
  "kernelspec": {
   "display_name": "Python 3 (ipykernel)",
   "language": "python",
   "name": "python3"
  },
  "language_info": {
   "codemirror_mode": {
    "name": "ipython",
    "version": 3
   },
   "file_extension": ".py",
   "mimetype": "text/x-python",
   "name": "python",
   "nbconvert_exporter": "python",
   "pygments_lexer": "ipython3",
   "version": "3.8.10"
  }
 },
 "nbformat": 4,
 "nbformat_minor": 5
}
